{
 "cells": [
  {
   "cell_type": "code",
   "execution_count": 21,
   "id": "374b23a6-462e-4bf3-828d-e7a1b49025cd",
   "metadata": {},
   "outputs": [],
   "source": [
    "import pandas as pd\n",
    "\n",
    "# Sample data\n",
    "data = {\n",
    "    'Day': [1, 2, 3],\n",
    "    'Return': [0.03, 0.04, -0.01],\n",
    "    'Signal': [1, 1, 0]\n",
    "}\n",
    "\n",
    "# Create DataFrame\n",
    "df = pd.DataFrame(data)"
   ]
  },
  {
   "cell_type": "code",
   "execution_count": 22,
   "id": "36a81f2b-8328-4785-bfce-cd678fc1bffb",
   "metadata": {},
   "outputs": [
    {
     "name": "stderr",
     "output_type": "stream",
     "text": [
      "C:\\Users\\hongl\\AppData\\Local\\Temp\\ipykernel_6452\\278507875.py:9: SettingWithCopyWarning: \n",
      "A value is trying to be set on a copy of a slice from a DataFrame\n",
      "\n",
      "See the caveats in the documentation: https://pandas.pydata.org/pandas-docs/stable/user_guide/indexing.html#returning-a-view-versus-a-copy\n",
      "  df['Cumulative Return'].iloc[i] = (1 + df['Return'].iloc[i])\n"
     ]
    },
    {
     "data": {
      "text/html": [
       "<div>\n",
       "<style scoped>\n",
       "    .dataframe tbody tr th:only-of-type {\n",
       "        vertical-align: middle;\n",
       "    }\n",
       "\n",
       "    .dataframe tbody tr th {\n",
       "        vertical-align: top;\n",
       "    }\n",
       "\n",
       "    .dataframe thead th {\n",
       "        text-align: right;\n",
       "    }\n",
       "</style>\n",
       "<table border=\"1\" class=\"dataframe\">\n",
       "  <thead>\n",
       "    <tr style=\"text-align: right;\">\n",
       "      <th></th>\n",
       "      <th>Cumulative Return</th>\n",
       "      <th>Day</th>\n",
       "      <th>Return</th>\n",
       "      <th>Signal</th>\n",
       "    </tr>\n",
       "  </thead>\n",
       "  <tbody>\n",
       "    <tr>\n",
       "      <th>0</th>\n",
       "      <td>1.0300</td>\n",
       "      <td>1</td>\n",
       "      <td>0.03</td>\n",
       "      <td>1</td>\n",
       "    </tr>\n",
       "    <tr>\n",
       "      <th>1</th>\n",
       "      <td>1.0412</td>\n",
       "      <td>2</td>\n",
       "      <td>0.04</td>\n",
       "      <td>1</td>\n",
       "    </tr>\n",
       "    <tr>\n",
       "      <th>2</th>\n",
       "      <td>1.0000</td>\n",
       "      <td>3</td>\n",
       "      <td>-0.01</td>\n",
       "      <td>0</td>\n",
       "    </tr>\n",
       "  </tbody>\n",
       "</table>\n",
       "</div>"
      ],
      "text/plain": [
       "   Cumulative Return  Day  Return  Signal\n",
       "0             1.0300    1    0.03       1\n",
       "1             1.0412    2    0.04       1\n",
       "2             1.0000    3   -0.01       0"
      ]
     },
     "execution_count": 22,
     "metadata": {},
     "output_type": "execute_result"
    }
   ],
   "source": [
    "import pandas as pd\n",
    "def compute_cumulative_return(df):\n",
    "    df.insert(0,'Cumulative Return',1)\n",
    "\n",
    "    for i in range(len(df)):\n",
    "        if i > 0:\n",
    "            df['Cumulative Return'].iloc[i] += df['Cumulative Return'].iloc[i - 1] * df['Return'].iloc[i] * df['Signal'].iloc[i]\n",
    "        else:\n",
    "            df['Cumulative Return'].iloc[i] = (1 + df['Return'].iloc[i])\n",
    "\n",
    "    return df\n",
    "\n",
    "result_df = compute_cumulative_return(df)\n",
    "result_df"
   ]
  },
  {
   "cell_type": "code",
   "execution_count": null,
   "id": "0599d5e0-f2d1-4f3c-84c5-4a335f4709e6",
   "metadata": {},
   "outputs": [],
   "source": [
    "def ema_signal_gen(fast_ema, slow_ema):\n",
    "    if fast_ema >= slow_ema:\n",
    "        return 1\n",
    "    elif fast_ema < slow_ema:\n",
    "        return -1\n"
   ]
  }
 ],
 "metadata": {
  "kernelspec": {
   "display_name": "Python 3 (ipykernel)",
   "language": "python",
   "name": "python3"
  },
  "language_info": {
   "codemirror_mode": {
    "name": "ipython",
    "version": 3
   },
   "file_extension": ".py",
   "mimetype": "text/x-python",
   "name": "python",
   "nbconvert_exporter": "python",
   "pygments_lexer": "ipython3",
   "version": "3.11.4"
  }
 },
 "nbformat": 4,
 "nbformat_minor": 5
}
